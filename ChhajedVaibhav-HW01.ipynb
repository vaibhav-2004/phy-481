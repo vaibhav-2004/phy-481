{
 "cells": [
  {
   "cell_type": "code",
   "execution_count": null,
   "id": "0d057065",
   "metadata": {},
   "outputs": [],
   "source": [
    "## Question 4 "
   ]
  },
  {
   "cell_type": "code",
   "execution_count": 3,
   "id": "ca1b8f72",
   "metadata": {},
   "outputs": [
    {
     "name": "stdout",
     "output_type": "stream",
     "text": [
      "1 Hello World\n",
      "2 Hello World\n",
      "3 Hello World\n",
      "4 Hello World\n",
      "5 Hello World\n",
      "6 Hello World\n",
      "7 Hello World\n",
      "8 Hello World\n",
      "9 Hello World\n",
      "10 Hello World\n"
     ]
    }
   ],
   "source": [
    "for i in range(1,11):\n",
    "    print(i, \"Hello World\")\n"
   ]
  },
  {
   "cell_type": "code",
   "execution_count": null,
   "id": "2ff386d7",
   "metadata": {},
   "outputs": [],
   "source": []
  }
 ],
 "metadata": {
  "kernelspec": {
   "display_name": "Python 3",
   "language": "python",
   "name": "python3"
  },
  "language_info": {
   "codemirror_mode": {
    "name": "ipython",
    "version": 3
   },
   "file_extension": ".py",
   "mimetype": "text/x-python",
   "name": "python",
   "nbconvert_exporter": "python",
   "pygments_lexer": "ipython3",
   "version": "3.12.1"
  }
 },
 "nbformat": 4,
 "nbformat_minor": 5
}
